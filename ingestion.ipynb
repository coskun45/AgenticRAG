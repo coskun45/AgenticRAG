{
 "cells": [
  {
   "cell_type": "code",
   "execution_count": 1,
   "metadata": {},
   "outputs": [],
   "source": [
    "from dotenv import load_dotenv\n",
    "from langchain.text_splitter import RecursiveCharacterTextSplitter\n",
    "from langchain_community.document_loaders import PyPDFLoader\n",
    "from langchain_community.vectorstores import Chroma \n",
    "from langchain_openai import OpenAIEmbeddings\n",
    "from pathlib import Path\n",
    "from chromadb.utils import embedding_functions\n",
    "import bs4\n",
    "from langchain import hub\n",
    "from langchain_chroma import Chroma\n",
    "from langchain_core.output_parsers import StrOutputParser\n",
    "from langchain_core.runnables import RunnablePassthrough\n",
    "from langchain_community.embeddings import SentenceTransformerEmbeddings"
   ]
  },
  {
   "cell_type": "code",
   "execution_count": 14,
   "metadata": {},
   "outputs": [],
   "source": [
    "load_dotenv()\n",
    "knowledge_base_paths = Path(\"KnowledgeBase\")\n",
    "files_path = [f for f in knowledge_base_paths.iterdir() if f.is_file()]\n",
    "\n",
    "docs = [PyPDFLoader(path).load() for path in files_path]\n",
    "docs_list = [item for sublist in docs for item in sublist]\n",
    "splitter = RecursiveCharacterTextSplitter(chunk_size=512, chunk_overlap=50)\n",
    "chunks = splitter.split_documents(docs_list)\n",
    "\n"
   ]
  },
  {
   "cell_type": "code",
   "execution_count": null,
   "metadata": {},
   "outputs": [],
   "source": [
    "sentence_transformer_model=\"multi-qa-distilbert-cos-v1\"#distiluse-base-multilingual-cased-v1\"\n",
    "embedding_function = SentenceTransformerEmbeddings(model_name=sentence_transformer_model, model_kwargs={\"trust_remote_code\":True}) "
   ]
  },
  {
   "cell_type": "code",
   "execution_count": 15,
   "metadata": {},
   "outputs": [],
   "source": [
    "vectorstore = Chroma.from_documents(documents=chunks, embedding=embedding_function,collection_name=\"asrin-getirdigi-tereddutler\", persist_directory=\"./.chromadb\",\n",
    "collection_metadata={\"embeeding_model\":\"multi-qa-distilbert-cos-v1\",\n",
    "\"chunk_size\":512,\n",
    "\"chunk_overlap\":50})\n",
    "\n"
   ]
  },
  {
   "cell_type": "code",
   "execution_count": null,
   "metadata": {},
   "outputs": [],
   "source": [
    "vectorstore._collection.count()"
   ]
  },
  {
   "cell_type": "code",
   "execution_count": null,
   "metadata": {},
   "outputs": [],
   "source": [
    "len(vectorstore._collection.peek(1)['embeddings'][0])"
   ]
  },
  {
   "cell_type": "code",
   "execution_count": 26,
   "metadata": {},
   "outputs": [],
   "source": [
    "vectorstore = Chroma( \n",
    "embedding_function=embedding_function,collection_name=\"asrin-getirdigi-tereddutler\", persist_directory=\".chromadb\",\n",
    "collection_metadata={\"embeeding_model\":\"multi-qa-distilbert-cos-v1\",\n",
    "\"chunk_size\":512,\n",
    "\"chunk_overlap\":50})\n",
    "\n",
    "retriever = vectorstore.as_retriever()"
   ]
  }
 ],
 "metadata": {
  "kernelspec": {
   "display_name": "myenv",
   "language": "python",
   "name": "python3"
  },
  "language_info": {
   "codemirror_mode": {
    "name": "ipython",
    "version": 3
   },
   "file_extension": ".py",
   "mimetype": "text/x-python",
   "name": "python",
   "nbconvert_exporter": "python",
   "pygments_lexer": "ipython3",
   "version": "3.12.7"
  }
 },
 "nbformat": 4,
 "nbformat_minor": 2
}
