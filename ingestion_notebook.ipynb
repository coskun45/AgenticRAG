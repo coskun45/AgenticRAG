{
 "cells": [
  {
   "cell_type": "code",
   "execution_count": 11,
   "metadata": {},
   "outputs": [],
   "source": [
    "from dotenv import load_dotenv\n",
    "from langchain.text_splitter import RecursiveCharacterTextSplitter\n",
    "from langchain_community.document_loaders import PyPDFLoader\n",
    "from langchain_community.vectorstores import Chroma \n",
    "from langchain_openai import AzureOpenAIEmbeddings\n",
    "from pathlib import Path\n",
    "from chromadb.utils import embedding_functions\n",
    "import bs4\n",
    "from langchain import hub\n",
    "from langchain_chroma import Chroma\n",
    "from langchain_core.output_parsers import StrOutputParser\n",
    "from langchain_core.runnables import RunnablePassthrough\n",
    "from langchain_community.embeddings import SentenceTransformerEmbeddings\n",
    "from langchain.schema import Document\n",
    "import os\n"
   ]
  },
  {
   "cell_type": "markdown",
   "metadata": {},
   "source": [
    "### load pdf"
   ]
  },
  {
   "cell_type": "code",
   "execution_count": 14,
   "metadata": {},
   "outputs": [
    {
     "name": "stdout",
     "output_type": "stream",
     "text": [
      "[PosixPath('KnowledgeBase/verbraucherInformation.pdf')]\n"
     ]
    },
    {
     "data": {
      "text/plain": [
       "457"
      ]
     },
     "execution_count": 14,
     "metadata": {},
     "output_type": "execute_result"
    }
   ],
   "source": [
    "load_dotenv()\n",
    "knowledge_base_paths = Path(\"KnowledgeBase\")\n",
    "files_path = [f for f in knowledge_base_paths.iterdir() if f.is_file()]\n",
    "print(files_path)\n",
    "\n",
    "docs = [PyPDFLoader(path).load() for path in files_path]\n",
    "docs_list = [item for sublist in docs for item in sublist]\n",
    "splitter = RecursiveCharacterTextSplitter(chunk_size=1000, chunk_overlap=200)\n",
    "chunks = splitter.split_documents(docs_list)\n",
    "len(chunks)\n"
   ]
  },
  {
   "cell_type": "markdown",
   "metadata": {},
   "source": [
    "### load json"
   ]
  },
  {
   "cell_type": "code",
   "execution_count": 15,
   "metadata": {},
   "outputs": [],
   "source": [
    "import json\n",
    "\n",
    "# Dosya yolu\n",
    "file_path = './KnowledgeBase/json/HannoverscheVerscicherung.json'\n",
    "\n",
    "# JSON dosyasını okuma\n",
    "with open(file_path, \"r\", encoding=\"utf-8\") as file:\n",
    "    data = json.load(file)\n",
    "\n"
   ]
  },
  {
   "cell_type": "code",
   "execution_count": 16,
   "metadata": {},
   "outputs": [],
   "source": [
    "def create_Doc(page_content, source =file_path, page=0 ):\n",
    "    doc = Document(\n",
    "    metadata={'source': source, 'page': page},\n",
    "    page_content=page_content\n",
    ")\n",
    "    return doc"
   ]
  },
  {
   "cell_type": "code",
   "execution_count": 17,
   "metadata": {},
   "outputs": [
    {
     "data": {
      "text/plain": [
       "505"
      ]
     },
     "execution_count": 17,
     "metadata": {},
     "output_type": "execute_result"
    }
   ],
   "source": [
    "for d in data:\n",
    "    content = ''\n",
    "    content += d['frage']\n",
    "    content += d['ref_antwort']\n",
    "    Doc = create_Doc(content)\n",
    "    chunks.append(Doc)\n",
    "len(chunks)"
   ]
  },
  {
   "cell_type": "code",
   "execution_count": 12,
   "metadata": {},
   "outputs": [],
   "source": [
    "deployment = os.getenv(\"EMBEDDING_DEPLOYMENT\")  \n",
    "embedding_function = AzureOpenAIEmbeddings(\n",
    "    model=\"text-embedding-ada-002\",\n",
    "    deployment=deployment)"
   ]
  },
  {
   "cell_type": "code",
   "execution_count": 20,
   "metadata": {},
   "outputs": [],
   "source": [
    "import time\n",
    "\n",
    "requests_per_minute = 600\n",
    "sleep_time = 60 / requests_per_minute  # İstekler arasına bekleme süresi ekle\n",
    "\n",
    "for chunk in chunks:\n",
    "    vectorstore = Chroma.from_documents(\n",
    "        documents=[chunk],  # Tek tek ekleyerek limiti aşmayı önle\n",
    "        embedding=embedding_function,\n",
    "        collection_name=\"hannoversche-versicherung\",\n",
    "        persist_directory=\"./.chromadb\",\n",
    "        collection_metadata={\"embeding_model\": \"azure-openai-ada-002\",\n",
    "                             \"chunk_size\": 1000,\n",
    "                             \"chunk_overlap\": 200}\n",
    "    )\n",
    "    time.sleep(sleep_time)  # Rate limit aşımını önlemek için bekleme süresi ekle\n"
   ]
  },
  {
   "cell_type": "code",
   "execution_count": 21,
   "metadata": {},
   "outputs": [
    {
     "data": {
      "text/plain": [
       "505"
      ]
     },
     "execution_count": 21,
     "metadata": {},
     "output_type": "execute_result"
    }
   ],
   "source": [
    "vectorstore._collection.count()"
   ]
  },
  {
   "cell_type": "code",
   "execution_count": 22,
   "metadata": {},
   "outputs": [
    {
     "data": {
      "text/plain": [
       "1536"
      ]
     },
     "execution_count": 22,
     "metadata": {},
     "output_type": "execute_result"
    }
   ],
   "source": [
    "len(vectorstore._collection.peek(1)['embeddings'][0])"
   ]
  },
  {
   "cell_type": "code",
   "execution_count": 24,
   "metadata": {},
   "outputs": [],
   "source": [
    "vectorstore = Chroma( \n",
    "    collection_name=\"hannoversche-versicherung\", \n",
    "    persist_directory=\"./.chromadb\",\n",
    "    collection_metadata={\"embeding_model\":\"azure-openai-ada-002\",\n",
    "\"chunk_size\":1000,\n",
    "\"chunk_overlap\":200})\n",
    "\n",
    "retriever = vectorstore.as_retriever()"
   ]
  }
 ],
 "metadata": {
  "kernelspec": {
   "display_name": "myenv",
   "language": "python",
   "name": "python3"
  },
  "language_info": {
   "codemirror_mode": {
    "name": "ipython",
    "version": 3
   },
   "file_extension": ".py",
   "mimetype": "text/x-python",
   "name": "python",
   "nbconvert_exporter": "python",
   "pygments_lexer": "ipython3",
   "version": "3.12.7"
  }
 },
 "nbformat": 4,
 "nbformat_minor": 2
}
